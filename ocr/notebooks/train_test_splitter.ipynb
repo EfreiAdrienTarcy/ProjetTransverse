{
 "cells": [
  {
   "cell_type": "code",
   "execution_count": 2,
   "metadata": {},
   "outputs": [],
   "source": [
    "import pandas as pd\n",
    "from sklearn.model_selection import train_test_split\n",
    "df=pd.read_csv('annotation.csv')[['file','card_name','card_id']]\n",
    "train_df,test_df = train_test_split(df, test_size=0.33, random_state=42, shuffle=True)\n"
   ]
  },
  {
   "cell_type": "code",
   "execution_count": 3,
   "metadata": {},
   "outputs": [
    {
     "name": "stdout",
     "output_type": "stream",
     "text": [
      "3561\n"
     ]
    }
   ],
   "source": [
    "train_df.head()\n",
    "print(len(train_df))"
   ]
  },
  {
   "cell_type": "code",
   "execution_count": 4,
   "metadata": {},
   "outputs": [
    {
     "name": "stdout",
     "output_type": "stream",
     "text": [
      "1754\n"
     ]
    }
   ],
   "source": [
    "test_df.head()\n",
    "print(len(test_df))"
   ]
  },
  {
   "cell_type": "code",
   "execution_count": 5,
   "metadata": {},
   "outputs": [
    {
     "name": "stdout",
     "output_type": "stream",
     "text": [
      "Directory 'train_data' created\n"
     ]
    }
   ],
   "source": [
    "import os\n",
    "\n",
    "# Leaf directory \n",
    "directory = \"train_data\"\n",
    "\n",
    "# Parent Directories \n",
    "parent_dir = \"C:/Users/PONNOU Wilfried/Desktop/Projet transverse\"\n",
    "\n",
    "# Path \n",
    "path = os.path.join(parent_dir, directory)\n",
    "\n",
    "# Create the directory \n",
    "# 'Nikhil' \n",
    "os.makedirs(path)\n",
    "print(\"Directory '% s' created\" % directory)"
   ]
  },
  {
   "cell_type": "code",
   "execution_count": 6,
   "metadata": {},
   "outputs": [
    {
     "name": "stdout",
     "output_type": "stream",
     "text": [
      "Directory 'train' created\n",
      "Copied\n",
      "resized\n"
     ]
    }
   ],
   "source": [
    "import shutil\n",
    "from PIL import Image\n",
    "\n",
    "# Leaf directory \n",
    "train_directory = \"train\"\n",
    "\n",
    "# Parent Directories \n",
    "parent_dir = \"C:/Users/PONNOU Wilfried/Desktop/Projet transverse/train_data\"\n",
    "\n",
    "# Path \n",
    "path = os.path.join(parent_dir, train_directory)\n",
    "\n",
    "# Create the directory \n",
    "# 'Nikhil' \n",
    "os.makedirs(path)\n",
    "print(\"Directory '% s' created\" % train_directory)\n",
    "\n",
    "for img_path in train_df['file']:\n",
    "    src_path='./images/'+str(img_path)\n",
    "    img_final_path = os.path.join(path,img_path)\n",
    "    shutil.copy(src_path, img_final_path)\n",
    "print('Copied')\n",
    "\n",
    "for filename in os.listdir(path):\n",
    "    f = os.path.join(path, filename)\n",
    "    # checking if it is a file\n",
    "    if os.path.isfile(f):\n",
    "        img = Image.open(f)\n",
    "        newsize = (600, 1000)\n",
    "        im1 = img.resize(newsize,resample=Image.Resampling.LANCZOS)\n",
    "        im1.save(f)\n",
    "print('resized')"
   ]
  },
  {
   "cell_type": "code",
   "execution_count": 7,
   "metadata": {},
   "outputs": [
    {
     "name": "stdout",
     "output_type": "stream",
     "text": [
      "Directory 'test' created\n",
      "Copied\n",
      "resized\n"
     ]
    }
   ],
   "source": [
    "test_directory = \"test\"\n",
    "\n",
    "# Parent Directories \n",
    "parent_dir = \"C:/Users/PONNOU Wilfried/Desktop/Projet transverse/train_data\"\n",
    "\n",
    "# Path \n",
    "path = os.path.join(parent_dir, test_directory)\n",
    "\n",
    "# Create the directory \n",
    "# 'Nikhil' \n",
    "os.makedirs(path)\n",
    "print(\"Directory '% s' created\" % test_directory)\n",
    "\n",
    "for img_path in test_df['file']:\n",
    "    src_path='./images/'+str(img_path)\n",
    "    img_final_path = os.path.join(path,img_path)\n",
    "    shutil.copy(src_path, img_final_path)\n",
    "print('Copied')\n",
    "\n",
    "for filename in os.listdir(path):\n",
    "    f = os.path.join(path, filename)\n",
    "    # checking if it is a file\n",
    "    if os.path.isfile(f):\n",
    "        img = Image.open(f)\n",
    "        newsize = (600, 1000)\n",
    "        im1 = img.resize(newsize,resample=Image.Resampling.LANCZOS)\n",
    "        im1.save(f)\n",
    "print('resized')"
   ]
  },
  {
   "cell_type": "code",
   "execution_count": 15,
   "metadata": {},
   "outputs": [],
   "source": [
    "test_df.reset_index(inplace=True)\n",
    "train_df.reset_index(inplace=True)"
   ]
  },
  {
   "cell_type": "code",
   "execution_count": 16,
   "metadata": {},
   "outputs": [],
   "source": [
    "with open('test_point_annnotation.txt','w') as f:\n",
    "    for i in range(len(test_df)):\n",
    "        f.write(\"test/\"+str(test_df['file'][i])+\"\\t\"+'[{\"transcription\": \"'+str(test_df['card_id'][i])+'\", \"points\": [[400, 710], [400, 750], [545, 750], [545, 710]]}]'+'\\n')"
   ]
  },
  {
   "cell_type": "code",
   "execution_count": 17,
   "metadata": {},
   "outputs": [],
   "source": [
    "with open('train_point_annnotation.txt','w') as f:\n",
    "    for i in range(len(train_df)):\n",
    "        f.write(\"train/\"+str(train_df['file'][i])+\"\\t\"+'[{\"transcription\": \"'+str(train_df['card_id'][i])+'\", \"points\": [[400, 710], [400, 750], [545, 750], [545, 710]]}]'+'\\n')"
   ]
  },
  {
   "cell_type": "code",
   "execution_count": 18,
   "metadata": {},
   "outputs": [],
   "source": [
    "with open('test_annnotation.txt','w') as f:\n",
    "    for i in range(len(test_df)):\n",
    "        f.write(\"test/\"+str(test_df['file'][i])+'\\t'+str(test_df['card_id'][i])+'\\n')"
   ]
  },
  {
   "cell_type": "code",
   "execution_count": 19,
   "metadata": {},
   "outputs": [],
   "source": [
    "with open('train_annnotation.txt','w') as f:\n",
    "    for i in range(len(train_df)):\n",
    "        f.write(\"train/\"+str(train_df['file'][i])+\"\\t\"+str(train_df['card_id'][i])+'\\n')"
   ]
  }
 ],
 "metadata": {
  "kernelspec": {
   "display_name": "base",
   "language": "python",
   "name": "python3"
  },
  "language_info": {
   "codemirror_mode": {
    "name": "ipython",
    "version": 3
   },
   "file_extension": ".py",
   "mimetype": "text/x-python",
   "name": "python",
   "nbconvert_exporter": "python",
   "pygments_lexer": "ipython3",
   "version": "3.8.16"
  },
  "orig_nbformat": 4,
  "vscode": {
   "interpreter": {
    "hash": "5de91d4c2035e3a5d94b0416f3d9b06d53541789080bfc7f25065bc5d777d64d"
   }
  }
 },
 "nbformat": 4,
 "nbformat_minor": 2
}
